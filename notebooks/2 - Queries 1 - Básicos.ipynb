{
 "cells": [
  {
   "cell_type": "markdown",
   "metadata": {},
   "source": [
    "# O Basico de Queries com o ORM do Django\n",
    "\n",
    "Vamos aprender a usar os comandos básicos do ORM.\n",
    "\n",
    "* Select * From\n",
    "* Where e And\n",
    "* Or\n",
    "* In\n",
    "* Not In\n",
    "* \\> e <\n",
    "* \\>= e <=\n",
    "* startswith\n",
    "\n",
    "Antes de iniciar, iremos ativar o log para você visualizar as queries que estão sendo geradas.\n",
    "\n",
    "Para isso, vamos utilizar a lib [sqlformatter](https://github.com/henriquebastos/sqlformatter)\n",
    "\n",
    "1. `pip install sqlformatter`\n",
    "2. `from sqlformatter import logdb`\n",
    "3. `logdb()`"
   ]
  },
  {
   "cell_type": "code",
   "execution_count": null,
   "metadata": {},
   "outputs": [],
   "source": [
    "from sqlformatter import logdb\n",
    "logdb()"
   ]
  },
  {
   "cell_type": "markdown",
   "metadata": {},
   "source": [
    "## Select * From"
   ]
  },
  {
   "cell_type": "code",
   "execution_count": null,
   "metadata": {},
   "outputs": [],
   "source": [
    "clientes = Cliente.objects.all()\n",
    "clientes"
   ]
  },
  {
   "cell_type": "markdown",
   "metadata": {},
   "source": [
    "## Where e And"
   ]
  },
  {
   "cell_type": "code",
   "execution_count": null,
   "metadata": {},
   "outputs": [],
   "source": [
    "clientes = Cliente.objects.filter(tipo='F', id=16338)\n",
    "clientes"
   ]
  },
  {
   "cell_type": "markdown",
   "metadata": {},
   "source": [
    "## Or\n",
    "\n",
    "Para usar o `Or` iremos necessitar de um pacote do django para tratar lookups complexos:\n",
    "\n",
    "`from django.db.models import Q`"
   ]
  },
  {
   "cell_type": "code",
   "execution_count": null,
   "metadata": {},
   "outputs": [],
   "source": [
    "from django.db.models import Q\n",
    "clientes = Cliente.objects.filter(Q(id=9397) | Q(id=20716), tipo='J')\n",
    "clientes"
   ]
  },
  {
   "cell_type": "markdown",
   "metadata": {},
   "source": [
    "## In"
   ]
  },
  {
   "cell_type": "code",
   "execution_count": null,
   "metadata": {},
   "outputs": [],
   "source": [
    "clientes = Cliente.objects.filter(id__in=[9397, 20716])\n",
    "clientes"
   ]
  },
  {
   "cell_type": "markdown",
   "metadata": {},
   "source": [
    "## Not In"
   ]
  },
  {
   "cell_type": "code",
   "execution_count": null,
   "metadata": {},
   "outputs": [],
   "source": [
    "clientes = Cliente.objects.filter(tipo='F').exclude(id__in=[16338])\n",
    "clientes"
   ]
  },
  {
   "cell_type": "markdown",
   "metadata": {},
   "source": [
    "## > e <\n",
    "\n",
    "Para usar o \\> ou <, vamos usar o lookup `__lt` (Lower To) e `__gt` (Grand To)"
   ]
  },
  {
   "cell_type": "code",
   "execution_count": null,
   "metadata": {},
   "outputs": [],
   "source": [
    "clientes = Cliente.objects.filter(saldo__lt=1, saldo__gt=10)\n",
    "clientes"
   ]
  },
  {
   "cell_type": "markdown",
   "metadata": {},
   "source": [
    "## >= e <=\n",
    "\n",
    "Para usar o \\> ou <, vamos usar o lookup `__lte` (Lower or equal To) e `__gte` (Grand or equal To)"
   ]
  },
  {
   "cell_type": "code",
   "execution_count": null,
   "metadata": {},
   "outputs": [],
   "source": [
    "clientes = Cliente.objects.filter(saldo__lte=1, saldo__gte=10)\n",
    "clientes"
   ]
  },
  {
   "cell_type": "markdown",
   "metadata": {},
   "source": [
    "## startswith"
   ]
  },
  {
   "cell_type": "code",
   "execution_count": null,
   "metadata": {},
   "outputs": [],
   "source": [
    "clientes = Cliente.objects.filter(razao_social__startswith='auto')\n",
    "clientes"
   ]
  }
 ],
 "metadata": {
  "kernelspec": {
   "display_name": "Django Shell-Plus",
   "language": "python",
   "name": "django_extensions"
  },
  "language_info": {
   "codemirror_mode": {
    "name": "ipython",
    "version": 3
   },
   "file_extension": ".py",
   "mimetype": "text/x-python",
   "name": "python",
   "nbconvert_exporter": "python",
   "pygments_lexer": "ipython3",
   "version": "3.6.5"
  }
 },
 "nbformat": 4,
 "nbformat_minor": 2
}
