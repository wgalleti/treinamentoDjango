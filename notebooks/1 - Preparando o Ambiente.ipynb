{
 "cells": [
  {
   "cell_type": "markdown",
   "metadata": {},
   "source": [
    "# Preparação do ambiente\n",
    "\n",
    "Antes de executarmos os comandos, vamos preparar nosso banco dados e algumas configurações.\n",
    "\n",
    "Primeiramente, estamos utilizando o jupyter notebook, ele ira nos auxiliar em nosso treinamento. Vale a pena uma [leitura](https://jupyter-notebook.readthedocs.io/en/stable/)\n",
    "\n",
    "Agora, vamos iniciar um ambiente virtual e importar nosso projeto:\n",
    "\n",
    "```bash\n",
    "# clonar o projeto Git\n",
    "git clone git@github.com:wgalleti/treinamentoDjango.git\n",
    "cd treinamentoDjango.git\n",
    "\n",
    "# virtualenv\n",
    "python -m venv .venv\n",
    "pip install pipenv\n",
    "\n",
    "# Windows\n",
    ".venv\\Scripts\\activate\n",
    "\n",
    "# Linux ou mac\n",
    "source .venv\\bin\\activate\n",
    "\n",
    "pipenv install\n",
    "pipenv install --dev\n",
    "```\n",
    "\n",
    "Agora que temos as dependencias, configure seu banco de dados preferido no `settings.py` e vamos importar alguns dados iniciais que nos ajudarão em algumas etapas\n",
    "\n",
    "```bash\n",
    "python manage.py loaddata data.json\n",
    "```"
   ]
  }
 ],
 "metadata": {
  "kernelspec": {
   "display_name": "Django Shell-Plus",
   "language": "python",
   "name": "django_extensions"
  },
  "language_info": {
   "codemirror_mode": {
    "name": "ipython",
    "version": 3
   },
   "file_extension": ".py",
   "mimetype": "text/x-python",
   "name": "python",
   "nbconvert_exporter": "python",
   "pygments_lexer": "ipython3",
   "version": "3.6.5"
  }
 },
 "nbformat": 4,
 "nbformat_minor": 2
}
